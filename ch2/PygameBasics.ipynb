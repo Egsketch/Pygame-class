{
 "cells": [
  {
   "cell_type": "markdown",
   "metadata": {},
   "source": [
    "# Pygame Basics"
   ]
  },
  {
   "cell_type": "code",
   "execution_count": 1,
   "metadata": {},
   "outputs": [
    {
     "ename": "ModuleNotFoundError",
     "evalue": "No module named 'pygame'",
     "output_type": "error",
     "traceback": [
      "\u001b[0;31m---------------------------------------------------------------------------\u001b[0m",
      "\u001b[0;31mModuleNotFoundError\u001b[0m                       Traceback (most recent call last)",
      "\u001b[0;32m<ipython-input-1-dd9e705229c8>\u001b[0m in \u001b[0;36m<module>\u001b[0;34m()\u001b[0m\n\u001b[0;32m----> 1\u001b[0;31m \u001b[0;32mimport\u001b[0m \u001b[0mpygame\u001b[0m\u001b[0;34m,\u001b[0m \u001b[0msys\u001b[0m\u001b[0;34m\u001b[0m\u001b[0m\n\u001b[0m\u001b[1;32m      2\u001b[0m \u001b[0;32mfrom\u001b[0m \u001b[0mpygame\u001b[0m\u001b[0;34m.\u001b[0m\u001b[0mlocals\u001b[0m \u001b[0;32mimport\u001b[0m \u001b[0;34m*\u001b[0m\u001b[0;34m\u001b[0m\u001b[0m\n\u001b[1;32m      3\u001b[0m \u001b[0;34m\u001b[0m\u001b[0m\n\u001b[1;32m      4\u001b[0m \u001b[0mpygame\u001b[0m\u001b[0;34m.\u001b[0m\u001b[0minit\u001b[0m\u001b[0;34m(\u001b[0m\u001b[0;34m)\u001b[0m\u001b[0;34m\u001b[0m\u001b[0m\n\u001b[1;32m      5\u001b[0m \u001b[0mDISPLAYSURF\u001b[0m \u001b[0;34m=\u001b[0m \u001b[0mpygame\u001b[0m\u001b[0;34m.\u001b[0m\u001b[0mdisplay\u001b[0m\u001b[0;34m.\u001b[0m\u001b[0mset_mode\u001b[0m\u001b[0;34m(\u001b[0m\u001b[0;34m(\u001b[0m\u001b[0;36m400\u001b[0m\u001b[0;34m,\u001b[0m \u001b[0;36m300\u001b[0m\u001b[0;34m)\u001b[0m\u001b[0;34m)\u001b[0m\u001b[0;34m\u001b[0m\u001b[0m\n",
      "\u001b[0;31mModuleNotFoundError\u001b[0m: No module named 'pygame'"
     ]
    }
   ],
   "source": [
    "import pygame, sys\n",
    "from pygame.locals import *\n",
    "\n",
    "pygame.init()\n",
    "DISPLAYSURF = pygame.display.set_mode((400, 300))\n",
    "pygame.display.set_caption('Hello Pygame World!')\n",
    "while True: # main game loop\n",
    "    for event in pygame.event.get():\n",
    "        if event.type == QUIT:\n",
    "            pygame.quit()\n",
    "            sys.exit()"
   ]
  },
  {
   "cell_type": "code",
   "execution_count": 11,
   "metadata": {},
   "outputs": [
    {
     "data": {
      "text/plain": [
       "int"
      ]
     },
     "execution_count": 11,
     "metadata": {},
     "output_type": "execute_result"
    }
   ],
   "source": [
    "type(QUIT)"
   ]
  },
  {
   "cell_type": "markdown",
   "metadata": {},
   "source": [
    "## Main game loop\n",
    "The main game loop is constantly cycling between 3 things.\n",
    "1. Handling events\n",
    "2. Updating the game state\n",
    "3. Drawing the screen\n",
    "\n",
    "### Game state\n",
    "The game state is the value of all of the variables that describe the game at a given point in time.\n",
    "\n",
    "In a poker game, the game state could be the names of the players, the amount of money each player has, the cards in their hands, and the cards left in the deck.\n",
    "\n",
    "In a Pokemon game, the game state could be the name of the player, the position of the player in the world, the names and types of Pokemon the player has caught, the HP and attacks that each Pokemon they own, and many, many more.\n",
    "\n",
    "### Events\n",
    "Events are an action or occurence that happen in a game. The events need to be defined so that the program can recognize them.\n",
    "\n",
    "Player inputs are often events. In a console game, pressing the UP/DOWN LEFT/RIGHT, or ABXY buttons would be considered an event. Pygame contains many events. The event that we used in the example above was the QUIT event which is used to signal that the program should end. A full list of events is [here](http://www.pygame.org/docs/ref/event.html). Once we see one of these events we can execute code based on that event.\n",
    "\n",
    "In the example we quit pygame then quit python. Pygame needs to exit before python or python will stop working.\n",
    "\n",
    "```py\n",
    "if event.type == QUIT:\n",
    "    pygame.quit()\n",
    "    sys.exit()\n",
    "```\n",
    "\n",
    "### Drawing the screen\n",
    "In order to update the screen with our changes we execute:\n",
    "```py\n",
    "pygame.display_update()\n",
    "```\n",
    "Since there were no changes to the screen, this does nothing\n",
    "\n",
    "### Screen size\n",
    "Try updating the line to change the size of the screen.\n",
    "```py\n",
    "DISPLAYSURF = pygame.display.set_mode((400, 300))\n",
    "```\n",
    "The first number is the width and the second number is the height in pixels. Notice the two sets of parentheses. The set_mode function requires a two-integer tuple. Tuples are surrounded by parentheses."
   ]
  },
  {
   "cell_type": "code",
   "execution_count": null,
   "metadata": {
    "collapsed": true
   },
   "outputs": [],
   "source": []
  },
  {
   "cell_type": "markdown",
   "metadata": {
    "collapsed": true
   },
   "source": [
    "## Drawing"
   ]
  },
  {
   "cell_type": "code",
   "execution_count": 11,
   "metadata": {},
   "outputs": [
    {
     "ename": "SystemExit",
     "evalue": "",
     "output_type": "error",
     "traceback": [
      "An exception has occurred, use %tb to see the full traceback.\n",
      "\u001b[0;31mSystemExit\u001b[0m\n"
     ]
    },
    {
     "name": "stderr",
     "output_type": "stream",
     "text": [
      "/home/bz6w8b/miniconda2/envs/pygame/lib/python3.6/site-packages/IPython/core/interactiveshell.py:2889: UserWarning: To exit: use 'exit', 'quit', or Ctrl-D.\n",
      "  warn(\"To exit: use 'exit', 'quit', or Ctrl-D.\", stacklevel=1)\n"
     ]
    }
   ],
   "source": [
    "import pygame\n",
    "from pygame.locals import *\n",
    "\n",
    "pygame.init()\n",
    "DISPLAYSURF = pygame.display.set_mode((500, 400), 0, 32)\n",
    "pygame.display.set_caption('Drawing')\n",
    "\n",
    "#Colors\n",
    "BLACK = (  0,   0,   0)\n",
    "WHITE = (255, 255, 255)\n",
    "RED   = (255,   0,   0)\n",
    "GREEN = (  0, 255,   0)\n",
    "BLUE  = (  0,   0, 255)\n",
    "\n",
    "DISPLAYSURF.fill(WHITE)\n",
    "pygame.draw.polygon(DISPLAYSURF, GREEN, ((146, 0), \n",
    "                                         (291, 106), \n",
    "                                         (236, 277),\n",
    "                                         (56, 277),\n",
    "                                         (0, 106)))\n",
    "pygame.draw.line(DISPLAYSURF, BLUE, (60, 60), (120, 60), 4)\n",
    "pygame.draw.line(DISPLAYSURF, BLUE, (120, 60), (60, 120))\n",
    "pygame.draw.line(DISPLAYSURF, BLUE, (60, 120), (120, 120), 4)\n",
    "\n",
    "pygame.draw.circle(DISPLAYSURF, BLUE, (300, 50), 20, 0)\n",
    "pygame.draw.ellipse(DISPLAYSURF, RED, (300, 250, 40, 80), 1)\n",
    "pygame.draw.rect(DISPLAYSURF, RED, (200, 150, 100, 50))\n",
    "\n",
    "pixObj = pygame.PixelArray(DISPLAYSURF)\n",
    "pixObj[480][380] = BLACK\n",
    "pixObj[482][382] = BLACK\n",
    "pixObj[484][384] = BLACK\n",
    "pixObj[486][386] = BLACK\n",
    "pixObj[488][388] = BLACK\n",
    "del pixObj\n",
    "\n",
    "while True:\n",
    "    for event in pygame.event.get():\n",
    "        if event.type == QUIT:\n",
    "            pygame.quit()\n",
    "            sys.exit()\n",
    "        pygame.display.update()"
   ]
  },
  {
   "cell_type": "markdown",
   "metadata": {},
   "source": [
    "## Drawing documentation\n",
    "All documentation on drawing in pygame can be found [here](https://www.pygame.org/docs/ref/draw.html#pygame.draw.circle). The following cells will explain the functions we used."
   ]
  },
  {
   "cell_type": "markdown",
   "metadata": {},
   "source": [
    "### fill\n",
    "```py\n",
    "DISPLAYSURF.fill(color)\n",
    "```\n",
    "Fills the surface object with COLOR. Try changing WHITE with a different RGB tuple and see what happens. (e.g. (0, 128, 128) is teal)"
   ]
  },
  {
   "cell_type": "markdown",
   "metadata": {},
   "source": [
    "### Draw polygon\n",
    "```py\n",
    "pygame.draw.polygon(surface, color, (corner_1, corner_2, ... corner_n), thickness)\n",
    "```\n",
    "Try changing the corners of the pentagon or add more corners to make a different shape. What happens if you choose a number larger than the size of the display surface?"
   ]
  },
  {
   "cell_type": "markdown",
   "metadata": {},
   "source": [
    "### Draw Line\n",
    "```py\n",
    "pygame.draw.line(surface, color, start_point, end_point, thickness)\n",
    "```\n",
    "Try changin the start and end of the lines.\n",
    "The thickness defaults to 1 if it isn't specified."
   ]
  },
  {
   "cell_type": "markdown",
   "metadata": {},
   "source": [
    "### Draw Circle\n",
    "```py\n",
    "pygame.draw.circle(surface, color, center_point, radius, width)\n",
    "```\n",
    "center_point will control where the circle is located while radius will control the size of the circle. width is the thickness of the line around the circle. If width is zero then it will fill the object. If width isn't given it will be set to zero. "
   ]
  },
  {
   "cell_type": "markdown",
   "metadata": {},
   "source": [
    "### Draw Ellipse\n",
    "```py\n",
    "pygame.draw.ellipse(surface, color, (corner_1_x, corner_1_y, corner_2_x, corner_2_y), width)\n",
    "```\n",
    "Draws an oval-like shape that will fit into a rectangle defined by two corners by a list of four numbers."
   ]
  },
  {
   "cell_type": "markdown",
   "metadata": {},
   "source": [
    "### Pixel Arrays\n",
    "```py\n",
    "pixObj = pygame.PixelArray(DISPLAYSURF)\n",
    "pixObj[480][380] = BLACK\n",
    "pixObj[482][382] = BLACK\n",
    "pixObj[484][384] = BLACK\n",
    "pixObj[486][386] = BLACK\n",
    "pixObj[488][388] = BLACK\n",
    "del pixObj\n",
    "```\n",
    "In order to individually change pixels, we need to use a Pixel Array. This is a list of lists. In order to change the pixel at position (100, 200) to BLACK, you would set\n",
    "```py\n",
    "pixObj[100][200] = BLACK\n",
    "```\n",
    "The Pixel Array needs to be deleted in order for other functions like line, circle, etc. to use it."
   ]
  }
 ],
 "metadata": {
  "kernelspec": {
   "display_name": "Python 3",
   "language": "python",
   "name": "python3"
  },
  "language_info": {
   "codemirror_mode": {
    "name": "ipython",
    "version": 3
   },
   "file_extension": ".py",
   "mimetype": "text/x-python",
   "name": "python",
   "nbconvert_exporter": "python",
   "pygments_lexer": "ipython3",
   "version": "3.6.1"
  }
 },
 "nbformat": 4,
 "nbformat_minor": 2
}
