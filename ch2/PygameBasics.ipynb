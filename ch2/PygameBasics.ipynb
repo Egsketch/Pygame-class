{
 "cells": [
  {
   "cell_type": "markdown",
   "metadata": {},
   "source": [
    "# Pygame Basics"
   ]
  },
  {
   "cell_type": "code",
   "execution_count": 13,
   "metadata": {},
   "outputs": [
    {
     "ename": "SystemExit",
     "evalue": "",
     "output_type": "error",
     "traceback": [
      "An exception has occurred, use %tb to see the full traceback.\n",
      "\u001b[0;31mSystemExit\u001b[0m\n"
     ]
    },
    {
     "name": "stderr",
     "output_type": "stream",
     "text": [
      "/home/bz6w8b/miniconda2/envs/pygame/lib/python3.6/site-packages/IPython/core/interactiveshell.py:2889: UserWarning: To exit: use 'exit', 'quit', or Ctrl-D.\n",
      "  warn(\"To exit: use 'exit', 'quit', or Ctrl-D.\", stacklevel=1)\n"
     ]
    }
   ],
   "source": [
    "import pygame, sys\n",
    "from pygame.locals import *\n",
    "\n",
    "pygame.init()\n",
    "DISPLAYSURF = pygame.display.set_mode((400, 300))\n",
    "pygame.display.set_caption('Hello Pygame World!')\n",
    "while True: # main game loop\n",
    "    for event in pygame.event.get():\n",
    "        if event.type == QUIT:\n",
    "            pygame.quit()\n",
    "            sys.exit()"
   ]
  },
  {
   "cell_type": "code",
   "execution_count": 11,
   "metadata": {},
   "outputs": [
    {
     "data": {
      "text/plain": [
       "int"
      ]
     },
     "execution_count": 11,
     "metadata": {},
     "output_type": "execute_result"
    }
   ],
   "source": [
    "type(QUIT)"
   ]
  },
  {
   "cell_type": "markdown",
   "metadata": {},
   "source": [
    "## Main game loop\n",
    "The main game loop is constantly cycling between 3 things.\n",
    "1. Handling events\n",
    "2. Updating the game state\n",
    "3. Drawing the screen\n",
    "\n",
    "### Game state\n",
    "The game state is the value of all of the variables that describe the game at a given point in time.\n",
    "\n",
    "In a poker game, the game state could be the names of the players, the amount of money each player has, the cards in their hands, and the cards left in the deck.\n",
    "\n",
    "In a Pokemon game, the game state could be the name of the player, the position of the player in the world, the names and types of Pokemon the player has caught, the HP and attacks that each Pokemon they own, and many, many more.\n",
    "\n",
    "### Events\n",
    "Events are an action or occurence that happen in a game. The events need to be defined so that the program can recognize them.\n",
    "\n",
    "Player inputs are often events. In a console game, pressing the UP/DOWN LEFT/RIGHT, or ABXY buttons would be considered an event. Pygame contains many events. The event that we used in the example above was the QUIT event which is used to signal that the program should end. A full list of events is [here](http://www.pygame.org/docs/ref/event.html). Once we see one of these events we can execute code based on that event.\n",
    "\n",
    "In the example we quit pygame then quit python. Pygame needs to exit before python or python will stop working.\n",
    "\n",
    "```py\n",
    "if event.type == QUIT:\n",
    "    pygame.quit()\n",
    "    sys.exit()\n",
    "```\n",
    "\n",
    "### Drawing the screen\n",
    "In order to update the screen with our changes we execute:\n",
    "```py\n",
    "pygame.display_update()\n",
    "```\n",
    "Since there were no changes to the screen, this does nothing\n",
    "\n",
    "### Screen size\n",
    "Try updating the line to change the size of the screen.\n",
    "```py\n",
    "DISPLAYSURF = pygame.display.set_mode((400, 300))\n",
    "```\n",
    "The first number is the width and the second number is the height in pixels. Notice the two sets of parentheses. The set_mode function requires a two-integer tuple. Tuples are surrounded by parentheses."
   ]
  },
  {
   "cell_type": "code",
   "execution_count": null,
   "metadata": {
    "collapsed": true
   },
   "outputs": [],
   "source": []
  },
  {
   "cell_type": "code",
   "execution_count": null,
   "metadata": {
    "collapsed": true
   },
   "outputs": [],
   "source": []
  },
  {
   "cell_type": "code",
   "execution_count": null,
   "metadata": {
    "collapsed": true
   },
   "outputs": [],
   "source": []
  },
  {
   "cell_type": "markdown",
   "metadata": {},
   "source": []
  }
 ],
 "metadata": {
  "kernelspec": {
   "display_name": "Python 3",
   "language": "python",
   "name": "python3"
  },
  "language_info": {
   "codemirror_mode": {
    "name": "ipython",
    "version": 3
   },
   "file_extension": ".py",
   "mimetype": "text/x-python",
   "name": "python",
   "nbconvert_exporter": "python",
   "pygments_lexer": "ipython3",
   "version": "3.6.1"
  }
 },
 "nbformat": 4,
 "nbformat_minor": 2
}
